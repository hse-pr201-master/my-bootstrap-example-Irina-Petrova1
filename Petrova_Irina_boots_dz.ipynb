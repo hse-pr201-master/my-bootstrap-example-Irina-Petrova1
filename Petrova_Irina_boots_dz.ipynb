{
 "cells": [
  {
   "cell_type": "code",
   "execution_count": 20,
   "id": "038d3d2f",
   "metadata": {},
   "outputs": [
    {
     "name": "stdout",
     "output_type": "stream",
     "text": [
      "Requirement already satisfied: arch in c:\\users\\mihai\\anaconda3\\lib\\site-packages (6.2.0)\n",
      "Requirement already satisfied: numpy>=1.19 in c:\\users\\mihai\\anaconda3\\lib\\site-packages (from arch) (1.24.3)\n",
      "Requirement already satisfied: scipy>=1.5 in c:\\users\\mihai\\anaconda3\\lib\\site-packages (from arch) (1.10.1)\n",
      "Requirement already satisfied: pandas>=1.1 in c:\\users\\mihai\\anaconda3\\lib\\site-packages (from arch) (1.5.3)\n",
      "Requirement already satisfied: statsmodels>=0.12 in c:\\users\\mihai\\anaconda3\\lib\\site-packages (from arch) (0.14.0)\n",
      "Requirement already satisfied: python-dateutil>=2.8.1 in c:\\users\\mihai\\anaconda3\\lib\\site-packages (from pandas>=1.1->arch) (2.8.2)\n",
      "Requirement already satisfied: pytz>=2020.1 in c:\\users\\mihai\\anaconda3\\lib\\site-packages (from pandas>=1.1->arch) (2022.7)\n",
      "Requirement already satisfied: patsy>=0.5.2 in c:\\users\\mihai\\anaconda3\\lib\\site-packages (from statsmodels>=0.12->arch) (0.5.3)\n",
      "Requirement already satisfied: packaging>=21.3 in c:\\users\\mihai\\anaconda3\\lib\\site-packages (from statsmodels>=0.12->arch) (23.0)\n",
      "Requirement already satisfied: six in c:\\users\\mihai\\anaconda3\\lib\\site-packages (from patsy>=0.5.2->statsmodels>=0.12->arch) (1.16.0)\n"
     ]
    }
   ],
   "source": [
    "!pip install arch"
   ]
  },
  {
   "cell_type": "code",
   "execution_count": 24,
   "id": "0c5a37ce",
   "metadata": {},
   "outputs": [],
   "source": [
    "import numpy as np\n",
    "from arch.bootstrap import IIDBootstrap, IndependentSamplesBootstrap\n",
    "import pandas as pd\n",
    "import seaborn as sns\n",
    "from sklearn.datasets import fetch_california_housing"
   ]
  },
  {
   "cell_type": "code",
   "execution_count": 85,
   "id": "38bfa469",
   "metadata": {},
   "outputs": [],
   "source": [
    "df = fetch_california_housing(as_frame = True).frame"
   ]
  },
  {
   "cell_type": "code",
   "execution_count": 91,
   "id": "beb19677",
   "metadata": {},
   "outputs": [
    {
     "data": {
      "text/html": [
       "<div>\n",
       "<style scoped>\n",
       "    .dataframe tbody tr th:only-of-type {\n",
       "        vertical-align: middle;\n",
       "    }\n",
       "\n",
       "    .dataframe tbody tr th {\n",
       "        vertical-align: top;\n",
       "    }\n",
       "\n",
       "    .dataframe thead th {\n",
       "        text-align: right;\n",
       "    }\n",
       "</style>\n",
       "<table border=\"1\" class=\"dataframe\">\n",
       "  <thead>\n",
       "    <tr style=\"text-align: right;\">\n",
       "      <th></th>\n",
       "      <th>MedInc</th>\n",
       "      <th>HouseAge</th>\n",
       "      <th>AveRooms</th>\n",
       "      <th>AveBedrms</th>\n",
       "      <th>Population</th>\n",
       "      <th>AveOccup</th>\n",
       "      <th>Latitude</th>\n",
       "      <th>Longitude</th>\n",
       "      <th>MedHouseVal</th>\n",
       "    </tr>\n",
       "  </thead>\n",
       "  <tbody>\n",
       "    <tr>\n",
       "      <th>40</th>\n",
       "      <td>2.0978</td>\n",
       "      <td>52.0</td>\n",
       "      <td>4.215190</td>\n",
       "      <td>1.060759</td>\n",
       "      <td>946.0</td>\n",
       "      <td>2.394937</td>\n",
       "      <td>37.83</td>\n",
       "      <td>-122.26</td>\n",
       "      <td>1.554</td>\n",
       "    </tr>\n",
       "    <tr>\n",
       "      <th>41</th>\n",
       "      <td>1.2852</td>\n",
       "      <td>51.0</td>\n",
       "      <td>3.759036</td>\n",
       "      <td>1.248996</td>\n",
       "      <td>517.0</td>\n",
       "      <td>2.076305</td>\n",
       "      <td>37.83</td>\n",
       "      <td>-122.26</td>\n",
       "      <td>1.500</td>\n",
       "    </tr>\n",
       "    <tr>\n",
       "      <th>42</th>\n",
       "      <td>1.0250</td>\n",
       "      <td>49.0</td>\n",
       "      <td>3.772487</td>\n",
       "      <td>1.068783</td>\n",
       "      <td>462.0</td>\n",
       "      <td>2.444444</td>\n",
       "      <td>37.84</td>\n",
       "      <td>-122.26</td>\n",
       "      <td>1.188</td>\n",
       "    </tr>\n",
       "    <tr>\n",
       "      <th>43</th>\n",
       "      <td>3.9643</td>\n",
       "      <td>52.0</td>\n",
       "      <td>4.797980</td>\n",
       "      <td>1.020202</td>\n",
       "      <td>467.0</td>\n",
       "      <td>2.358586</td>\n",
       "      <td>37.84</td>\n",
       "      <td>-122.26</td>\n",
       "      <td>1.888</td>\n",
       "    </tr>\n",
       "    <tr>\n",
       "      <th>44</th>\n",
       "      <td>3.0125</td>\n",
       "      <td>52.0</td>\n",
       "      <td>4.941781</td>\n",
       "      <td>1.065068</td>\n",
       "      <td>660.0</td>\n",
       "      <td>2.260274</td>\n",
       "      <td>37.83</td>\n",
       "      <td>-122.26</td>\n",
       "      <td>1.844</td>\n",
       "    </tr>\n",
       "    <tr>\n",
       "      <th>45</th>\n",
       "      <td>2.6768</td>\n",
       "      <td>52.0</td>\n",
       "      <td>4.335079</td>\n",
       "      <td>1.099476</td>\n",
       "      <td>718.0</td>\n",
       "      <td>1.879581</td>\n",
       "      <td>37.83</td>\n",
       "      <td>-122.26</td>\n",
       "      <td>1.823</td>\n",
       "    </tr>\n",
       "    <tr>\n",
       "      <th>46</th>\n",
       "      <td>2.0260</td>\n",
       "      <td>50.0</td>\n",
       "      <td>3.700658</td>\n",
       "      <td>1.059211</td>\n",
       "      <td>616.0</td>\n",
       "      <td>2.026316</td>\n",
       "      <td>37.83</td>\n",
       "      <td>-122.26</td>\n",
       "      <td>1.425</td>\n",
       "    </tr>\n",
       "    <tr>\n",
       "      <th>47</th>\n",
       "      <td>1.7348</td>\n",
       "      <td>43.0</td>\n",
       "      <td>3.980237</td>\n",
       "      <td>1.233202</td>\n",
       "      <td>558.0</td>\n",
       "      <td>2.205534</td>\n",
       "      <td>37.82</td>\n",
       "      <td>-122.27</td>\n",
       "      <td>1.375</td>\n",
       "    </tr>\n",
       "    <tr>\n",
       "      <th>48</th>\n",
       "      <td>0.9506</td>\n",
       "      <td>40.0</td>\n",
       "      <td>3.900000</td>\n",
       "      <td>1.218750</td>\n",
       "      <td>423.0</td>\n",
       "      <td>2.643750</td>\n",
       "      <td>37.82</td>\n",
       "      <td>-122.26</td>\n",
       "      <td>1.875</td>\n",
       "    </tr>\n",
       "    <tr>\n",
       "      <th>49</th>\n",
       "      <td>1.7750</td>\n",
       "      <td>40.0</td>\n",
       "      <td>2.687500</td>\n",
       "      <td>1.065341</td>\n",
       "      <td>700.0</td>\n",
       "      <td>1.988636</td>\n",
       "      <td>37.82</td>\n",
       "      <td>-122.27</td>\n",
       "      <td>1.125</td>\n",
       "    </tr>\n",
       "    <tr>\n",
       "      <th>50</th>\n",
       "      <td>0.9218</td>\n",
       "      <td>21.0</td>\n",
       "      <td>2.045662</td>\n",
       "      <td>1.034247</td>\n",
       "      <td>735.0</td>\n",
       "      <td>1.678082</td>\n",
       "      <td>37.82</td>\n",
       "      <td>-122.27</td>\n",
       "      <td>1.719</td>\n",
       "    </tr>\n",
       "    <tr>\n",
       "      <th>51</th>\n",
       "      <td>1.5045</td>\n",
       "      <td>43.0</td>\n",
       "      <td>4.589681</td>\n",
       "      <td>1.120393</td>\n",
       "      <td>1061.0</td>\n",
       "      <td>2.606880</td>\n",
       "      <td>37.82</td>\n",
       "      <td>-122.27</td>\n",
       "      <td>0.938</td>\n",
       "    </tr>\n",
       "    <tr>\n",
       "      <th>52</th>\n",
       "      <td>1.1108</td>\n",
       "      <td>41.0</td>\n",
       "      <td>4.473611</td>\n",
       "      <td>1.184722</td>\n",
       "      <td>1959.0</td>\n",
       "      <td>2.720833</td>\n",
       "      <td>37.82</td>\n",
       "      <td>-122.27</td>\n",
       "      <td>0.975</td>\n",
       "    </tr>\n",
       "    <tr>\n",
       "      <th>53</th>\n",
       "      <td>1.2475</td>\n",
       "      <td>52.0</td>\n",
       "      <td>4.075000</td>\n",
       "      <td>1.140000</td>\n",
       "      <td>1162.0</td>\n",
       "      <td>2.905000</td>\n",
       "      <td>37.82</td>\n",
       "      <td>-122.27</td>\n",
       "      <td>1.042</td>\n",
       "    </tr>\n",
       "    <tr>\n",
       "      <th>54</th>\n",
       "      <td>1.6098</td>\n",
       "      <td>52.0</td>\n",
       "      <td>5.021459</td>\n",
       "      <td>1.008584</td>\n",
       "      <td>701.0</td>\n",
       "      <td>3.008584</td>\n",
       "      <td>37.82</td>\n",
       "      <td>-122.28</td>\n",
       "      <td>0.875</td>\n",
       "    </tr>\n",
       "    <tr>\n",
       "      <th>55</th>\n",
       "      <td>1.4113</td>\n",
       "      <td>52.0</td>\n",
       "      <td>4.295455</td>\n",
       "      <td>1.104545</td>\n",
       "      <td>576.0</td>\n",
       "      <td>2.618182</td>\n",
       "      <td>37.82</td>\n",
       "      <td>-122.28</td>\n",
       "      <td>0.831</td>\n",
       "    </tr>\n",
       "    <tr>\n",
       "      <th>56</th>\n",
       "      <td>1.5057</td>\n",
       "      <td>52.0</td>\n",
       "      <td>4.779923</td>\n",
       "      <td>1.111969</td>\n",
       "      <td>622.0</td>\n",
       "      <td>2.401544</td>\n",
       "      <td>37.82</td>\n",
       "      <td>-122.28</td>\n",
       "      <td>0.875</td>\n",
       "    </tr>\n",
       "    <tr>\n",
       "      <th>57</th>\n",
       "      <td>0.8172</td>\n",
       "      <td>52.0</td>\n",
       "      <td>6.102459</td>\n",
       "      <td>1.372951</td>\n",
       "      <td>728.0</td>\n",
       "      <td>2.983607</td>\n",
       "      <td>37.82</td>\n",
       "      <td>-122.28</td>\n",
       "      <td>0.853</td>\n",
       "    </tr>\n",
       "    <tr>\n",
       "      <th>58</th>\n",
       "      <td>1.2171</td>\n",
       "      <td>52.0</td>\n",
       "      <td>4.562500</td>\n",
       "      <td>1.121711</td>\n",
       "      <td>1074.0</td>\n",
       "      <td>3.532895</td>\n",
       "      <td>37.82</td>\n",
       "      <td>-122.28</td>\n",
       "      <td>0.803</td>\n",
       "    </tr>\n",
       "    <tr>\n",
       "      <th>59</th>\n",
       "      <td>2.5625</td>\n",
       "      <td>2.0</td>\n",
       "      <td>2.771930</td>\n",
       "      <td>0.754386</td>\n",
       "      <td>94.0</td>\n",
       "      <td>1.649123</td>\n",
       "      <td>37.82</td>\n",
       "      <td>-122.29</td>\n",
       "      <td>0.600</td>\n",
       "    </tr>\n",
       "  </tbody>\n",
       "</table>\n",
       "</div>"
      ],
      "text/plain": [
       "    MedInc  HouseAge  AveRooms  AveBedrms  Population  AveOccup  Latitude  \\\n",
       "40  2.0978      52.0  4.215190   1.060759       946.0  2.394937     37.83   \n",
       "41  1.2852      51.0  3.759036   1.248996       517.0  2.076305     37.83   \n",
       "42  1.0250      49.0  3.772487   1.068783       462.0  2.444444     37.84   \n",
       "43  3.9643      52.0  4.797980   1.020202       467.0  2.358586     37.84   \n",
       "44  3.0125      52.0  4.941781   1.065068       660.0  2.260274     37.83   \n",
       "45  2.6768      52.0  4.335079   1.099476       718.0  1.879581     37.83   \n",
       "46  2.0260      50.0  3.700658   1.059211       616.0  2.026316     37.83   \n",
       "47  1.7348      43.0  3.980237   1.233202       558.0  2.205534     37.82   \n",
       "48  0.9506      40.0  3.900000   1.218750       423.0  2.643750     37.82   \n",
       "49  1.7750      40.0  2.687500   1.065341       700.0  1.988636     37.82   \n",
       "50  0.9218      21.0  2.045662   1.034247       735.0  1.678082     37.82   \n",
       "51  1.5045      43.0  4.589681   1.120393      1061.0  2.606880     37.82   \n",
       "52  1.1108      41.0  4.473611   1.184722      1959.0  2.720833     37.82   \n",
       "53  1.2475      52.0  4.075000   1.140000      1162.0  2.905000     37.82   \n",
       "54  1.6098      52.0  5.021459   1.008584       701.0  3.008584     37.82   \n",
       "55  1.4113      52.0  4.295455   1.104545       576.0  2.618182     37.82   \n",
       "56  1.5057      52.0  4.779923   1.111969       622.0  2.401544     37.82   \n",
       "57  0.8172      52.0  6.102459   1.372951       728.0  2.983607     37.82   \n",
       "58  1.2171      52.0  4.562500   1.121711      1074.0  3.532895     37.82   \n",
       "59  2.5625       2.0  2.771930   0.754386        94.0  1.649123     37.82   \n",
       "\n",
       "    Longitude  MedHouseVal  \n",
       "40    -122.26        1.554  \n",
       "41    -122.26        1.500  \n",
       "42    -122.26        1.188  \n",
       "43    -122.26        1.888  \n",
       "44    -122.26        1.844  \n",
       "45    -122.26        1.823  \n",
       "46    -122.26        1.425  \n",
       "47    -122.27        1.375  \n",
       "48    -122.26        1.875  \n",
       "49    -122.27        1.125  \n",
       "50    -122.27        1.719  \n",
       "51    -122.27        0.938  \n",
       "52    -122.27        0.975  \n",
       "53    -122.27        1.042  \n",
       "54    -122.28        0.875  \n",
       "55    -122.28        0.831  \n",
       "56    -122.28        0.875  \n",
       "57    -122.28        0.853  \n",
       "58    -122.28        0.803  \n",
       "59    -122.29        0.600  "
      ]
     },
     "execution_count": 91,
     "metadata": {},
     "output_type": "execute_result"
    }
   ],
   "source": [
    "df[40:60]\n"
   ]
  },
  {
   "cell_type": "code",
   "execution_count": 81,
   "id": "cf4d5dab",
   "metadata": {},
   "outputs": [],
   "source": [
    "x = np.asarray(df.AveRooms[40:60])\n",
    "y = np.asarray(df.AveBedrms[40:60])\n"
   ]
  },
  {
   "cell_type": "code",
   "execution_count": 95,
   "id": "8d84f0ae",
   "metadata": {},
   "outputs": [
    {
     "name": "stdout",
     "output_type": "stream",
     "text": [
      "Среднее x: 4.140381309417359 || Среднее y: 1.1046648001163522\n"
     ]
    }
   ],
   "source": [
    "print(f\"Среднее x: {np.mean(x)} || Среднее y: {np.mean(y)}\")"
   ]
  },
  {
   "cell_type": "code",
   "execution_count": 110,
   "id": "68ea3385",
   "metadata": {},
   "outputs": [
    {
     "name": "stdout",
     "output_type": "stream",
     "text": [
      "x:\n",
      " [3.880470484540279, 3.894566806636694, 4.299967808497375, 4.32280718225147, 4.1876689108049545, 4.513112610298345, 4.490081533265219, 3.927878601870453, 3.871588615791425, 3.8853449625283956]\n",
      "y:\n",
      " [1.1179131299652674, 1.09656376033477, 1.0659912203962212, 1.0481294978059874, 1.1234254619951063, 1.0945503205984024, 1.1301626318935114, 1.0854558074844565, 1.1526870092420334, 1.1502130863642444]\n"
     ]
    }
   ],
   "source": [
    "n_boot = 1000\n",
    "mu_hat_star_x = [np.mean(rng.choice(x, size=len(x))) for i in range(n_boot)]\n",
    "mu_hat_star_y = [np.mean(rng.choice(y, size=len(y))) for i in range(n_boot)]\n",
    "\n",
    "print(f\"x:\\n {mu_hat_star_x[:10]}\\ny:\\n {mu_hat_star_y[:10]}\")"
   ]
  },
  {
   "cell_type": "code",
   "execution_count": 109,
   "id": "4dd8c970",
   "metadata": {},
   "outputs": [
    {
     "data": {
      "text/plain": [
       "<seaborn.axisgrid.FacetGrid at 0x1b6fd4226d0>"
      ]
     },
     "execution_count": 109,
     "metadata": {},
     "output_type": "execute_result"
    },
    {
     "data": {
      "image/png": "[encoded data removed]",
      "text/plain": [
       "<Figure size 500x500 with 1 Axes>"
      ]
     },
     "metadata": {},
     "output_type": "display_data"
    }
   ],
   "source": [
    "sns.displot(x=np.array(mu_hat_star_x))\n"
   ]
  },
  {
   "cell_type": "code",
   "execution_count": 112,
   "id": "3fc9ff00",
   "metadata": {},
   "outputs": [
    {
     "data": {
      "text/plain": [
       "<seaborn.axisgrid.FacetGrid at 0x1b6fab690d0>"
      ]
     },
     "execution_count": 112,
     "metadata": {},
     "output_type": "execute_result"
    },
    {
     "data": {
      "image/png": "[encoded data removed]",
      "text/plain": [
       "<Figure size 500x500 with 1 Axes>"
      ]
     },
     "metadata": {},
     "output_type": "display_data"
    }
   ],
   "source": [
    "sns.displot(x=np.array(mu_hat_star_y))"
   ]
  },
  {
   "cell_type": "code",
   "execution_count": 113,
   "id": "0d482c57",
   "metadata": {},
   "outputs": [
    {
     "data": {
      "text/plain": [
       "[3.756980482966336, 4.484084103205712]"
      ]
     },
     "execution_count": 113,
     "metadata": {},
     "output_type": "execute_result"
    }
   ],
   "source": [
    "[np.quantile(mu_hat_star_x, 0.025), np.quantile(mu_hat_star_x, 0.975)]"
   ]
  },
  {
   "cell_type": "code",
   "execution_count": 114,
   "id": "42a5ae9a",
   "metadata": {},
   "outputs": [
    {
     "data": {
      "text/plain": [
       "[1.0509997861809914, 1.161739238882596]"
      ]
     },
     "execution_count": 114,
     "metadata": {},
     "output_type": "execute_result"
    }
   ],
   "source": [
    "[np.quantile(mu_hat_star_y, 0.025), np.quantile(mu_hat_star_y, 0.975)]"
   ]
  },
  {
   "cell_type": "code",
   "execution_count": 115,
   "id": "5830d6aa",
   "metadata": {},
   "outputs": [
    {
     "data": {
      "text/plain": [
       "array([[3.74242528],\n",
       "       [4.52239214]])"
      ]
     },
     "execution_count": 115,
     "metadata": {},
     "output_type": "execute_result"
    }
   ],
   "source": [
    "boot_x = IIDBootstrap(x, seed=111111)\n",
    "boot_x.conf_int(np.mean, method='percentile', reps=10000, size=0.95)"
   ]
  },
  {
   "cell_type": "code",
   "execution_count": 116,
   "id": "fb36110d",
   "metadata": {},
   "outputs": [
    {
     "data": {
      "text/plain": [
       "array([[1.        , 0.47948053],\n",
       "       [0.47948053, 1.        ]])"
      ]
     },
     "execution_count": 116,
     "metadata": {},
     "output_type": "execute_result"
    }
   ],
   "source": [
    "np.corrcoef(x, y)"
   ]
  },
  {
   "cell_type": "code",
   "execution_count": 118,
   "id": "ab2e7c38",
   "metadata": {},
   "outputs": [],
   "source": [
    "def corr(x, y):\n",
    "  corr_mat = np.corrcoef(x, y)\n",
    "  return corr_mat[0, 1]"
   ]
  },
  {
   "cell_type": "code",
   "execution_count": 119,
   "id": "f4ec908f",
   "metadata": {},
   "outputs": [
    {
     "data": {
      "text/plain": [
       "array([[-0.18737329],\n",
       "       [ 0.7668215 ]])"
      ]
     },
     "execution_count": 119,
     "metadata": {},
     "output_type": "execute_result"
    }
   ],
   "source": [
    "boot_xw = IIDBootstrap(x, y, seed=111111)\n",
    "boot_xw.conf_int(corr, method='percentile', reps=10000, size=0.95)"
   ]
  },
  {
   "cell_type": "code",
   "execution_count": 122,
   "id": "d595f0c1",
   "metadata": {},
   "outputs": [],
   "source": [
    "def mean_diff(x, y):\n",
    "  return np.mean(x) - np.mean(y)"
   ]
  },
  {
   "cell_type": "code",
   "execution_count": 123,
   "id": "990ed10b",
   "metadata": {},
   "outputs": [
    {
     "data": {
      "text/plain": [
       "array([[2.64844326],\n",
       "       [3.43622604]])"
      ]
     },
     "execution_count": 123,
     "metadata": {},
     "output_type": "execute_result"
    }
   ],
   "source": [
    "boot_xy = IndependentSamplesBootstrap(x, y, seed=111111)\n",
    "boot_xy.conf_int(mean_diff, reps=10000, size=0.95, method='basic')"
   ]
  },
  {
   "cell_type": "code",
   "execution_count": null,
   "id": "7318bd0a",
   "metadata": {},
   "outputs": [],
   "source": []
  },
  {
   "cell_type": "code",
   "execution_count": null,
   "id": "4433769d",
   "metadata": {},
   "outputs": [],
   "source": []
  }
 ],
 "metadata": {
  "kernelspec": {
   "display_name": "Python 3 (ipykernel)",
   "language": "python",
   "name": "python3"
  },
  "language_info": {
   "codemirror_mode": {
    "name": "ipython",
    "version": 3
   },
   "file_extension": ".py",
   "mimetype": "text/x-python",
   "name": "python",
   "nbconvert_exporter": "python",
   "pygments_lexer": "ipython3",
   "version": "3.11.4"
  }
 },
 "nbformat": 4,
 "nbformat_minor": 5
}
